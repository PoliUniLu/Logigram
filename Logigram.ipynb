{
  "nbformat": 4,
  "nbformat_minor": 0,
  "metadata": {
    "colab": {
      "name": "Logigram",
      "provenance": [],
      "collapsed_sections": []
    },
    "kernelspec": {
      "name": "python3",
      "display_name": "Python 3"
    },
    "widgets": {
      "application/vnd.jupyter.widget-state+json": {
        "8839c639fa6448328e36a5c98084fcc1": {
          "model_module": "@jupyter-widgets/controls",
          "model_name": "TextareaModel",
          "state": {
            "_view_name": "TextareaView",
            "style": "IPY_MODEL_0620b83a6b2f4669821168bcddd826a0",
            "rows": null,
            "_dom_classes": [],
            "description": "",
            "_model_name": "TextareaModel",
            "placeholder": "​",
            "_view_module": "@jupyter-widgets/controls",
            "_model_module_version": "1.5.0",
            "value": "",
            "_view_count": null,
            "disabled": false,
            "_view_module_version": "1.5.0",
            "continuous_update": true,
            "description_tooltip": null,
            "_model_module": "@jupyter-widgets/controls",
            "layout": "IPY_MODEL_6e35f44a5e4e4cdabf4a9b1a25d4e263"
          }
        },
        "0620b83a6b2f4669821168bcddd826a0": {
          "model_module": "@jupyter-widgets/controls",
          "model_name": "DescriptionStyleModel",
          "state": {
            "_view_name": "StyleView",
            "_model_name": "DescriptionStyleModel",
            "description_width": "",
            "_view_module": "@jupyter-widgets/base",
            "_model_module_version": "1.5.0",
            "_view_count": null,
            "_view_module_version": "1.2.0",
            "_model_module": "@jupyter-widgets/controls"
          }
        },
        "6e35f44a5e4e4cdabf4a9b1a25d4e263": {
          "model_module": "@jupyter-widgets/base",
          "model_name": "LayoutModel",
          "state": {
            "_view_name": "LayoutView",
            "grid_template_rows": null,
            "right": null,
            "justify_content": null,
            "_view_module": "@jupyter-widgets/base",
            "overflow": null,
            "_model_module_version": "1.2.0",
            "_view_count": null,
            "flex_flow": null,
            "width": null,
            "min_width": null,
            "border": null,
            "align_items": null,
            "bottom": null,
            "_model_module": "@jupyter-widgets/base",
            "top": null,
            "grid_column": null,
            "overflow_y": null,
            "overflow_x": null,
            "grid_auto_flow": null,
            "grid_area": null,
            "grid_template_columns": null,
            "flex": null,
            "_model_name": "LayoutModel",
            "justify_items": null,
            "grid_row": null,
            "max_height": null,
            "align_content": null,
            "visibility": null,
            "align_self": null,
            "height": null,
            "min_height": null,
            "padding": null,
            "grid_auto_rows": null,
            "grid_gap": null,
            "max_width": null,
            "order": null,
            "_view_module_version": "1.2.0",
            "grid_template_areas": null,
            "object_position": null,
            "object_fit": null,
            "grid_auto_columns": null,
            "margin": null,
            "display": null,
            "left": null
          }
        },
        "b28a56c97df145498f417074a01c21e0": {
          "model_module": "@jupyter-widgets/controls",
          "model_name": "ButtonModel",
          "state": {
            "_view_name": "ButtonView",
            "style": "IPY_MODEL_469ddd9f6d7f42d4801cb98b79920bcc",
            "_dom_classes": [],
            "description": "OK",
            "_model_name": "ButtonModel",
            "button_style": "",
            "_view_module": "@jupyter-widgets/controls",
            "_model_module_version": "1.5.0",
            "tooltip": "",
            "_view_count": null,
            "disabled": false,
            "_view_module_version": "1.5.0",
            "layout": "IPY_MODEL_cb54822f19204cb1a4e6c065ea66b3c3",
            "_model_module": "@jupyter-widgets/controls",
            "icon": ""
          }
        },
        "469ddd9f6d7f42d4801cb98b79920bcc": {
          "model_module": "@jupyter-widgets/controls",
          "model_name": "ButtonStyleModel",
          "state": {
            "_view_name": "StyleView",
            "_model_name": "ButtonStyleModel",
            "_view_module": "@jupyter-widgets/base",
            "_model_module_version": "1.5.0",
            "_view_count": null,
            "button_color": null,
            "font_weight": "",
            "_view_module_version": "1.2.0",
            "_model_module": "@jupyter-widgets/controls"
          }
        },
        "cb54822f19204cb1a4e6c065ea66b3c3": {
          "model_module": "@jupyter-widgets/base",
          "model_name": "LayoutModel",
          "state": {
            "_view_name": "LayoutView",
            "grid_template_rows": null,
            "right": null,
            "justify_content": null,
            "_view_module": "@jupyter-widgets/base",
            "overflow": null,
            "_model_module_version": "1.2.0",
            "_view_count": null,
            "flex_flow": null,
            "width": null,
            "min_width": null,
            "border": null,
            "align_items": null,
            "bottom": null,
            "_model_module": "@jupyter-widgets/base",
            "top": null,
            "grid_column": null,
            "overflow_y": null,
            "overflow_x": null,
            "grid_auto_flow": null,
            "grid_area": null,
            "grid_template_columns": null,
            "flex": null,
            "_model_name": "LayoutModel",
            "justify_items": null,
            "grid_row": null,
            "max_height": null,
            "align_content": null,
            "visibility": null,
            "align_self": null,
            "height": null,
            "min_height": null,
            "padding": null,
            "grid_auto_rows": null,
            "grid_gap": null,
            "max_width": null,
            "order": null,
            "_view_module_version": "1.2.0",
            "grid_template_areas": null,
            "object_position": null,
            "object_fit": null,
            "grid_auto_columns": null,
            "margin": null,
            "display": null,
            "left": null
          }
        },
        "0361a622b474458f9ec0b8919bae4cf2": {
          "model_module": "@jupyter-widgets/output",
          "model_name": "OutputModel",
          "state": {
            "_view_name": "OutputView",
            "msg_id": "",
            "_dom_classes": [],
            "_model_name": "OutputModel",
            "outputs": [],
            "_view_module": "@jupyter-widgets/output",
            "_model_module_version": "1.0.0",
            "_view_count": null,
            "_view_module_version": "1.0.0",
            "layout": "IPY_MODEL_31bb507611fb46cbac7cea82df1c3afd",
            "_model_module": "@jupyter-widgets/output"
          }
        },
        "31bb507611fb46cbac7cea82df1c3afd": {
          "model_module": "@jupyter-widgets/base",
          "model_name": "LayoutModel",
          "state": {
            "_view_name": "LayoutView",
            "grid_template_rows": null,
            "right": null,
            "justify_content": null,
            "_view_module": "@jupyter-widgets/base",
            "overflow": null,
            "_model_module_version": "1.2.0",
            "_view_count": null,
            "flex_flow": null,
            "width": null,
            "min_width": null,
            "border": null,
            "align_items": null,
            "bottom": null,
            "_model_module": "@jupyter-widgets/base",
            "top": null,
            "grid_column": null,
            "overflow_y": null,
            "overflow_x": null,
            "grid_auto_flow": null,
            "grid_area": null,
            "grid_template_columns": null,
            "flex": null,
            "_model_name": "LayoutModel",
            "justify_items": null,
            "grid_row": null,
            "max_height": null,
            "align_content": null,
            "visibility": null,
            "align_self": null,
            "height": null,
            "min_height": null,
            "padding": null,
            "grid_auto_rows": null,
            "grid_gap": null,
            "max_width": null,
            "order": null,
            "_view_module_version": "1.2.0",
            "grid_template_areas": null,
            "object_position": null,
            "object_fit": null,
            "grid_auto_columns": null,
            "margin": null,
            "display": null,
            "left": null
          }
        }
      }
    }
  },
  "cells": [
    {
      "cell_type": "code",
      "metadata": {
        "id": "A2nVS-E38xdF",
        "cellView": "form"
      },
      "source": [
        "#@title Initialization of the enviroment\n",
        "\n",
        "! [ ! -d \"/content/logigram\" ] && git clone https://github.com/ZuzanaSebb/Logigram.git logigram_repo\n",
        "import sys\n",
        "if '/content/logigram_repo' not in sys.path:\n",
        "  sys.path.append('/content/logigram_repo')\n",
        "!pip install -q SchemDraw==0.6.0\n",
        "\n",
        "import logigram as log\n",
        "import SchemDraw\n",
        "import SchemDraw.logic as logic\n",
        "import SchemDraw.elements as elm\n",
        "import re\n",
        "%matplotlib inline\n",
        "\n",
        "%config InlineBackend.figure_format = 'svg'"
      ],
      "execution_count": 24,
      "outputs": []
    },
    {
      "cell_type": "code",
      "metadata": {
        "id": "uJINo5UZ9jiA",
        "cellView": "form",
        "outputId": "1642c031-7763-4c05-ab22-ffa8c0bff831",
        "colab": {
          "base_uri": "https://localhost:8080/",
          "height": 93,
          "referenced_widgets": [
            "8839c639fa6448328e36a5c98084fcc1",
            "0620b83a6b2f4669821168bcddd826a0",
            "6e35f44a5e4e4cdabf4a9b1a25d4e263",
            "b28a56c97df145498f417074a01c21e0",
            "469ddd9f6d7f42d4801cb98b79920bcc",
            "cb54822f19204cb1a4e6c065ea66b3c3",
            "0361a622b474458f9ec0b8919bae4cf2",
            "31bb507611fb46cbac7cea82df1c3afd"
          ]
        }
      },
      "source": [
        "#@title Enter boolean function (F=a\\*b\\*C+a\\*B+c or F=A{1}\\*B{2}+C{0}):\n",
        "\n",
        "from ipywidgets import widgets, HBox\n",
        "from IPython.display import clear_output\n",
        "from google.colab import files\n",
        "import re\n",
        "from enum import Enum\n",
        "input_text= widgets.Textarea()\n",
        "output = widgets.Output()\n",
        "download_svg = widgets.Button(description='Download as SVG')\n",
        "download_svg.on_click(lambda x: files.download('scheme.svg'))\n",
        "download_png = widgets.Button(description='Download as PNG')\n",
        "download_png.on_click(lambda x: files.download('scheme.png'))\n",
        "download_pdf = widgets.Button(description='Download as PDF')\n",
        "download_pdf.on_click(lambda x: files.download('scheme.pdf'))\n",
        "\n",
        "ok_button=widgets.Button(description='OK')\n",
        "def ok_clicked(btn):\n",
        "  input_value=input_text.value.split(\"\\n\")\n",
        "  clear_output(wait=True)\n",
        "  display(input_text)\n",
        "  display(ok_button)\n",
        "  f=log.draw_schem(input_value)\n",
        "  log.save_figure(f,\"scheme\",\"svg\")\n",
        "  log.save_figure(f,\"scheme\",\"png\")\n",
        "  log.save_figure(f,\"scheme\",\"pdf\")\n",
        "  Download_options=HBox([download_png,download_svg,download_pdf])\n",
        "  display(Download_options)\n",
        "\n",
        "\n",
        "ok_button.on_click(ok_clicked)\n",
        "\n",
        "\n",
        "display(input_text)\n",
        "display(ok_button)\n",
        "display(output)\n",
        " \n"
      ],
      "execution_count": 26,
      "outputs": [
        {
          "output_type": "display_data",
          "data": {
            "application/vnd.jupyter.widget-view+json": {
              "model_id": "8839c639fa6448328e36a5c98084fcc1",
              "version_minor": 0,
              "version_major": 2
            },
            "text/plain": [
              "Textarea(value='')"
            ]
          },
          "metadata": {
            "tags": []
          }
        },
        {
          "output_type": "display_data",
          "data": {
            "application/vnd.jupyter.widget-view+json": {
              "model_id": "b28a56c97df145498f417074a01c21e0",
              "version_minor": 0,
              "version_major": 2
            },
            "text/plain": [
              "Button(description='OK', style=ButtonStyle())"
            ]
          },
          "metadata": {
            "tags": []
          }
        },
        {
          "output_type": "display_data",
          "data": {
            "application/vnd.jupyter.widget-view+json": {
              "model_id": "0361a622b474458f9ec0b8919bae4cf2",
              "version_minor": 0,
              "version_major": 2
            },
            "text/plain": [
              "Output()"
            ]
          },
          "metadata": {
            "tags": []
          }
        }
      ]
    }
  ]
}